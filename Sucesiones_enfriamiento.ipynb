{
  "nbformat": 4,
  "nbformat_minor": 0,
  "metadata": {
    "colab": {
      "name": "Sucesiones_enfriamiento.ipynb",
      "provenance": [],
      "authorship_tag": "ABX9TyOB61pswaBY5g/9YQw1WVpE",
      "include_colab_link": true
    },
    "kernelspec": {
      "name": "python3",
      "display_name": "Python 3"
    },
    "language_info": {
      "name": "python"
    }
  },
  "cells": [
    {
      "cell_type": "markdown",
      "metadata": {
        "id": "view-in-github",
        "colab_type": "text"
      },
      "source": [
        "<a href=\"https://colab.research.google.com/github/luissolarte/calculus_colab/blob/main/Sucesiones_enfriamiento.ipynb\" target=\"_parent\"><img src=\"https://colab.research.google.com/assets/colab-badge.svg\" alt=\"Open In Colab\"/></a>"
      ]
    },
    {
      "cell_type": "code",
      "source": [
        "import numpy as np\n",
        "import matplotlib.pyplot as plt"
      ],
      "metadata": {
        "id": "PkrgYXKQ5htH"
      },
      "execution_count": null,
      "outputs": []
    },
    {
      "cell_type": "markdown",
      "source": [
        "\n",
        "# **Ley de enfriamiento**. \n",
        "\n",
        " Establece que el cambio en la temperatura de un objeto en un medio por unidad de tiempo es proporcional a la diferencia entre la temperatura del objeto y la temperatura del medio.  \n",
        "\n",
        "  Si $T_0$ representa la temperatura inicial del objeto, $S$ la temperatura del ambiente donde está el objeto y $T_n$ la temperatura después de $n$ unidades de tiempo, entonces el cambio por unidad de tiempo está dado por:\n",
        "$$T_{n+1}-T_{n}=k(T_n-S)$$ para $n=0,1,2,...$. \n",
        "donde $k$ es una constante que depende del objeto y puede determinarse con la información dada en el problema. \n",
        "\n",
        "**Problemas conceptuales**\n",
        "\n",
        "1. a) Muestre que si $T_1 < T_0$ entonces la sucesión $T_n$ es decreciente.\n",
        "\n",
        "  b) Muestre que si $T_0 < T_1$ entonces la sucesión $T_n$ es creciente.\n",
        "\n",
        "2. Muestre que la temperatura ambiente es una cota de la sucesión.\n",
        "\n",
        "3. Use los problemas anteriores para mostrar que $T_n$ es convergente.\n",
        "\n",
        "\n",
        "**Problema computacionales**  \n",
        "\n",
        "\n",
        "Si una taza de café tiene una temperatura inicial de 80ºC y se enfría a 78ºC después de un mínuto en un cuarto con temperatura constante de 30ºC. Sea $T_n$ la temperatura de la taza después de $n$ minutos.\n",
        "\n",
        "\n",
        "a) Construya una lista con la temperatura del café para los primeros 120 minutos y grafique la lista.\n",
        "\n",
        "b) ¿En qué instante la temperatura del café está más cerca de los 50ºC?\n",
        "\n",
        "c) Halle el límite de la sucesión $T_n$\n",
        "\n",
        "d)¿ La temperatura del café es igual a la temperatura ambiente(30ºC) en algún momento?\n",
        "\n"
      ],
      "metadata": {
        "id": "ziY6U8yE2G2g"
      }
    },
    {
      "cell_type": "code",
      "execution_count": null,
      "metadata": {
        "id": "Oa0jhtjg2BbB"
      },
      "outputs": [],
      "source": [
        ""
      ]
    },
    {
      "cell_type": "markdown",
      "source": [
        "# Solución\n",
        "\n",
        "Si $n=0$ entonces $T_1-T_0=k(T_0-S)$ reemplazando $T_0=80$ y $T_1=78$ entonces $$k=(T_1-T_0)/(T_0-S)=(78-80)/(80-30)=-0.04 $$\n",
        "\n",
        "$$T_{n+1}=T_n+k(T_n-S)$$"
      ],
      "metadata": {
        "id": "sFOchRww5Paq"
      }
    },
    {
      "cell_type": "code",
      "source": [
        "k=-0.04\n",
        "S=30\n",
        "T=[80] # Lista de valores de la temperatura\n",
        "for n in range(120):\n",
        "  a=T[-1]+k*(T[-1]-S)\n",
        "  T.append(a)\n",
        "\n",
        "print(T)\n",
        "\n",
        "plt.plot(T,'.')\n",
        "plt.hlines(30,0,120)\n",
        "\n"
      ],
      "metadata": {
        "colab": {
          "base_uri": "https://localhost:8080/",
          "height": 320
        },
        "id": "YAxFv3E95WeN",
        "outputId": "d81037b1-cb82-46d3-c648-8105426d5185"
      },
      "execution_count": null,
      "outputs": [
        {
          "output_type": "stream",
          "name": "stdout",
          "text": [
            "[80, 78.0, 76.08, 74.2368, 72.46732800000001, 70.76863488000001, 69.13788948480001, 67.57237390540801, 66.06947894919169, 64.62669979122403, 63.24163179957507, 61.911966527592064, 60.63548786648838, 59.41006835182885, 58.23366561775569, 57.10431899304546, 56.02014623332364, 54.979340383990696, 53.980166768631065, 53.02096009788582, 52.10012169397039, 51.21611682621157, 50.367472153163106, 49.552773267036585, 48.77066233635512, 48.01983584290092, 47.29904240918488, 46.607080712817485, 45.94279748430478, 45.30508558493259, 44.69288216153529, 44.10516687507388, 43.54096020007092, 42.99932179206808, 42.479348920385355, 41.980174963569944, 41.500967965027144, 41.04092924642606, 40.599292076569014, 40.175320393506254, 39.768307577766, 39.377575274655364, 39.00247226366915, 38.64237337312238, 38.29667843819749, 37.96481130066959, 37.6462188486428, 37.34037009469709, 37.04675529090921, 36.764885079272844, 36.49428967610193, 36.23451808905785, 35.98513736549554, 35.745731870875716, 35.51590259604069, 35.29526649219906, 35.0834558325111, 34.88011759921066, 34.68491289524223, 34.49751637943254, 34.31761572425524, 34.14491109528503, 33.97911465147363, 33.81995006541469, 33.6671520627981, 33.520465980286176, 33.37964734107473, 33.24446144743174, 33.11468298953447, 32.99009566995309, 32.870491843154966, 32.75567216942877, 32.64544528265162, 32.539627471345554, 32.43804237249173, 32.34052067759206, 32.246899850488376, 32.15702385646884, 32.070742902210085, 31.98791318612168, 31.908396658676814, 31.83206079232974, 31.75877836063655, 31.68842722621109, 31.620890137162647, 31.55605453167614, 31.493812350409094, 31.43405985639273, 31.37669746213702, 31.32162956365154, 31.26876438110548, 31.21801380586126, 31.16929325362681, 31.12252152348174, 31.077620662542472, 31.03451583604077, 30.99313520259914, 30.953409794495176, 30.915273402715368, 30.87866246660675, 30.84351596794248, 30.80977532922478, 30.77738431605579, 30.74628894341356, 30.71643738567702, 30.68777989024994, 30.660268694639942, 30.633857946854345, 30.60850362898017, 30.584163483820962, 30.560796944468123, 30.538365066689398, 30.516830464021822, 30.49615724546095, 30.47631095564251, 30.45725851741681, 30.438968176720138, 30.421409449651332, 30.40455307166528, 30.38837094879867, 30.372836110846723]\n"
          ]
        },
        {
          "output_type": "execute_result",
          "data": {
            "text/plain": [
              "<matplotlib.collections.LineCollection at 0x7f8625630fd0>"
            ]
          },
          "metadata": {},
          "execution_count": 2
        },
        {
          "output_type": "display_data",
          "data": {
            "text/plain": [
              "<Figure size 432x288 with 1 Axes>"
            ],
            "image/png": "[encoded data removed]"
          },
          "metadata": {
            "needs_background": "light"
          }
        }
      ]
    },
    {
      "cell_type": "code",
      "source": [
        "for n in range(120):\n",
        "  if T[n]<50:\n",
        "    a=n\n",
        "    break\n",
        "print(a)\n",
        "\n"
      ],
      "metadata": {
        "colab": {
          "base_uri": "https://localhost:8080/"
        },
        "id": "FwTgVzjV6St4",
        "outputId": "3bbc73e9-8307-4843-8e91-db56ab7d245d"
      },
      "execution_count": null,
      "outputs": [
        {
          "output_type": "stream",
          "name": "stdout",
          "text": [
            "23\n"
          ]
        }
      ]
    },
    {
      "cell_type": "code",
      "source": [
        ""
      ],
      "metadata": {
        "id": "hdCrc4CI7INB"
      },
      "execution_count": null,
      "outputs": []
    },
    {
      "cell_type": "markdown",
      "source": [
        "# Comparación con el modelo continuo\n",
        "\n",
        "El modelo continuo $T'=k(T-S)$, la solucion del problema anterior es:\n",
        "$$Temp(t)=30+50exp(-0.04t)$$\n",
        "\n",
        "**Ejercicio:**  probar que $Temp(t)$ es solución de la ecuación diferencial."
      ],
      "metadata": {
        "id": "wWnSFPpf8FYv"
      }
    },
    {
      "cell_type": "code",
      "source": [
        "t=np.linspace(0,120)\n",
        "def Temp(t):return 30+50*np.exp(-0.0408*t)\n"
      ],
      "metadata": {
        "id": "dtp5aqbt9IbW"
      },
      "execution_count": null,
      "outputs": []
    },
    {
      "cell_type": "code",
      "source": [
        "I=np.arange(0,121)\n",
        "plt.plot(I,Temp(I))\n",
        "#plt.plot(I,T)\n"
      ],
      "metadata": {
        "colab": {
          "base_uri": "https://localhost:8080/",
          "height": 282
        },
        "id": "brZbzuSg9ZIS",
        "outputId": "cca7b590-2c95-4b21-b41e-ac04ad6a1a5e"
      },
      "execution_count": null,
      "outputs": [
        {
          "output_type": "execute_result",
          "data": {
            "text/plain": [
              "[<matplotlib.lines.Line2D at 0x7f86250f7750>]"
            ]
          },
          "metadata": {},
          "execution_count": 5
        },
        {
          "output_type": "display_data",
          "data": {
            "text/plain": [
              "<Figure size 432x288 with 1 Axes>"
            ],
            "image/png": "[encoded data removed]"
          },
          "metadata": {
            "needs_background": "light"
          }
        }
      ]
    },
    {
      "cell_type": "markdown",
      "source": [
        "\n",
        "**Problema 2 (Temperatura del medio no constante)**\n",
        "\n",
        "\n",
        "Suponga que en la temperatura del medio $S$ está cambiando por cada unidad de tiempo, por ejemplo en un cuarto frío. Si la temperatura del medio después de $n$ unidades de tiempo viene dada por $S_n$ entonces la ley de enfriamiento se puede escribir:\n",
        "$$T_{n+1}-T_{n}=k(T_n-S_n)$$ para $n=0,1,2,...$. \n",
        "\n",
        "Suponga que la taza de cafe con temperatura inicial $T_0=80C$ se deja en un cuato frío con temperatura inicial de $S_0=30C$ pero que disminuye 1% cada minuto.\n",
        "\n",
        "a) Construya una lista con la temperatura del café para los primeros 120 minutos y grafique la lista.\n",
        "\n",
        "b) Halle el límite de la sucesión $T_{n}$\n",
        "\n",
        "c)¿En que punto la temperatura del café es 30ºC ?"
      ],
      "metadata": {
        "id": "Oatrih_UAreB"
      }
    },
    {
      "cell_type": "code",
      "source": [
        "k=-0.04\n",
        "S=30\n",
        "T2=[80]\n",
        "for n in range(120):\n",
        "  a=T2[-1]+k*(T2[-1]-S*0.99**n)\n",
        "  T2.append(a)\n",
        "\n",
        "print(T2)\n",
        "plt.plot(T2,'.')\n",
        "plt.plot(T,'.')\n",
        "plt.hlines(30,0,120)\n"
      ],
      "metadata": {
        "colab": {
          "base_uri": "https://localhost:8080/",
          "height": 320
        },
        "id": "UVToCGtLBQx8",
        "outputId": "7ef98d85-7f0c-4fa5-a26f-421cb181c70a"
      },
      "execution_count": null,
      "outputs": [
        {
          "output_type": "stream",
          "name": "stdout",
          "text": [
            "[80, 78.0, 76.068, 74.20139999999999, 72.39770279999999, 70.6545099, 68.96951756387999, 67.34051304060598, 65.76537093647013, 64.24204973232483, 62.76858844001221, 61.343103392422286, 59.96378516183585, 58.628895601421775, 57.33676500496367, 56.085789380087895, 54.874427830453925, 53.701200042549615, 52.56468387290834, 51.46351303173211, 50.39637485906553, 49.36200818981959, 48.359201304092316, 47.38678995937548, 46.443655501372845, 45.528723050286594, 44.64095975955411, 43.77937314413813, 42.94300947558913, 42.130952241209926, 41.34232066475944, 40.576268286235, 39.831981598370874, 39.108678737585464, 38.40560822719998, 37.72204777083873, 37.05730309400466, 36.41070683190396, 35.78161746167069, 35.16941827721633, 34.573516405000014, 33.99334185908363, 33.428346633901064, 32.878003833234, 32.34180683394672, 31.819268483090514, 31.30992032704354, 30.813311871405677, 30.32900987041889, 29.85659764473288, 29.395674426383003, 28.945854729892726, 28.50676774845641, 28.078056774199954, 27.659378641556938, 27.25040319283639, 26.85081276509525, 26.46030169746403, 26.078575858108334, 25.705352190041438, 25.340358275034642, 24.98333191490217, 24.634020729466307, 24.292181770536278, 23.957581151260964, 23.6299936902412, 23.30920256981192, 22.994999007928005, 22.687181943110364, 22.385557731930433, 22.089939858532254, 21.80014865571121, 21.516011037087807, 21.23736023993329, 20.964035578221665, 20.695882205499647, 20.43275088718244, 20.174497781898893, 19.920984231524653, 19.672076559556363, 19.42764587749388, 19.187567898910697, 18.951722760905675, 18.719994852641342, 18.492272650685862, 18.2684485608871, 18.048418766518004, 17.832083082443006, 17.61934481506515, 17.41011062782321, 17.204290412017343, 17.001797162750638, 16.80254685978246, 16.60645835309759, 16.413453253003052, 16.223455824572003, 16.036392886261304, 15.85219371253631, 15.670789940343063, 15.492115479274464, 15.316106425283158, 15.142700977799706, 14.971839360120313, 14.80346374293377, 14.637518170862506, 14.473948491897632, 14.312702289612657, 14.153728818045172, 13.996978939140217, 13.84240506265329, 13.689961088415053, 13.539602350863667, 13.391285565754485, 13.244968778960416, 13.10061131727975, 12.958173741171532, 12.817617799341813, 12.67890638510711, 12.542003494464407, 12.406874185799795, 12.27348454117063]\n"
          ]
        },
        {
          "output_type": "execute_result",
          "data": {
            "text/plain": [
              "<matplotlib.collections.LineCollection at 0x7f3b436a6a50>"
            ]
          },
          "metadata": {},
          "execution_count": 26
        },
        {
          "output_type": "display_data",
          "data": {
            "text/plain": [
              "<Figure size 432x288 with 1 Axes>"
            ],
            "image/png": "[encoded data removed]"
          },
          "metadata": {
            "needs_background": "light"
          }
        }
      ]
    },
    {
      "cell_type": "markdown",
      "source": [
        "Proyecto:\n",
        "\n",
        "Control PID."
      ],
      "metadata": {
        "id": "eMq1T5KLAm_o"
      }
    },
    {
      "cell_type": "code",
      "source": [
        ""
      ],
      "metadata": {
        "id": "unpJxt7VAmh3"
      },
      "execution_count": null,
      "outputs": []
    }
  ]
}