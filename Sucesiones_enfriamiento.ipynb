{
  "nbformat": 4,
  "nbformat_minor": 0,
  "metadata": {
    "colab": {
      "name": "Sucesiones_enfriamiento.ipynb",
      "provenance": [],
      "collapsed_sections": [],
      "authorship_tag": "ABX9TyOSFL/mPZUwvB/DeeHMoR0N",
      "include_colab_link": true
    },
    "kernelspec": {
      "name": "python3",
      "display_name": "Python 3"
    },
    "language_info": {
      "name": "python"
    }
  },
  "cells": [
    {
      "cell_type": "markdown",
      "metadata": {
        "id": "view-in-github",
        "colab_type": "text"
      },
      "source": [
        "<a href=\"https://colab.research.google.com/github/luissolarte/calculus_colab/blob/main/Sucesiones_enfriamiento.ipynb\" target=\"_parent\"><img src=\"https://colab.research.google.com/assets/colab-badge.svg\" alt=\"Open In Colab\"/></a>"
      ]
    },
    {
      "cell_type": "code",
      "source": [
        "import numpy as np\n",
        "import matplotlib.pyplot as plt"
      ],
      "metadata": {
        "id": "PkrgYXKQ5htH"
      },
      "execution_count": null,
      "outputs": []
    },
    {
      "cell_type": "markdown",
      "source": [
        "\n",
        "# **Ley de enfriamiento**. \n",
        "\n",
        " Establece que el cambio en la temperatura de un objeto en un medio por unidad de tiempo es proporcional a la diferencia entre la temperatura del objeto y la temperatura del medio.  \n",
        "\n",
        "  Si $T_0$ representa la temperatura inicial del objeto, $S$ la temperatura del ambiente donde está el objeto y $T_n$ la temperatura después de $n$ unidades de tiempo, entonces el cambio por unidad de tiempo está dado por:\n",
        "$$T_{n+1}-T_{n}=k(T_n-S)$$ para $n=0,1,2,...$. \n",
        "donde $k$ es una constante que depende del objeto y puede determinarse con la información dada en el problema. \n",
        "\n",
        "**Problemas conceptuales**\n",
        "\n",
        "1. a) Muestre que si $T_1 < T_0$ entonces la sucesión $T_n$ es decreciente.\n",
        "\n",
        "  b) Muestre que si $T_0 < T_1$ entonces la sucesión $T_n$ es creciente.\n",
        "\n",
        "2. Muestre que la temperatura ambiente es una cota de la sucesión.\n",
        "\n",
        "3. Use los problemas anteriores para mostrar que $T_n$ es convergente.\n",
        "\n",
        "\n",
        "**Problema computacionales**  \n",
        "\n",
        "\n",
        "Si una taza de café tiene una temperatura inicial de 80ºC y se enfría a 78ºC después de un mínuto en un cuarto con temperatura constante de 30ºC. Sea $T_n$ la temperatura de la taza después de $n$ minutos.\n",
        "\n",
        "\n",
        "a) Construya una lista con la temperatura del café para los primeros 120 minutos y grafique la lista.\n",
        "\n",
        "b) ¿En qué instante la temperatura del café está más cerca de los 50ºC?\n",
        "\n",
        "c) Halle el límite de la sucesión $T_n$\n",
        "\n",
        "d)¿ La temperatura del café es igual a la temperatura ambiente(30ºC) en algún momento?\n",
        "\n"
      ],
      "metadata": {
        "id": "ziY6U8yE2G2g"
      }
    },
    {
      "cell_type": "code",
      "execution_count": null,
      "metadata": {
        "id": "Oa0jhtjg2BbB"
      },
      "outputs": [],
      "source": [
        ""
      ]
    },
    {
      "cell_type": "markdown",
      "source": [
        "# Solución\n",
        "\n",
        "Si $n=0$ entonces $T_1-T_0=k(T_0-S)$ reemplazando $T_0=80$ y $T_1=78$ entonces $$k=(T_1-T_0)/(T_0-S)=(78-80)/(80-30)=-0.04 $$\n",
        "\n",
        "$$T_{n+1}=T_n+k(T_n-S)$$"
      ],
      "metadata": {
        "id": "sFOchRww5Paq"
      }
    },
    {
      "cell_type": "code",
      "source": [
        "k=-0.04\n",
        "S=30\n",
        "T=[80] # Lista de valores de la temperatura\n",
        "for n in range(120):\n",
        "  a=T[-1]+k*(T[-1]-S)\n",
        "  T.append(a)\n",
        "\n",
        "print(T)\n",
        "\n",
        "plt.plot(T,'.')\n",
        "plt.hlines(30,0,120)\n",
        "\n"
      ],
      "metadata": {
        "id": "YAxFv3E95WeN"
      },
      "execution_count": null,
      "outputs": []
    },
    {
      "cell_type": "code",
      "source": [
        "for n in range(120):\n",
        "  if T[n]<50:\n",
        "    a=n\n",
        "    break\n",
        "print(a)\n",
        "\n"
      ],
      "metadata": {
        "id": "FwTgVzjV6St4"
      },
      "execution_count": null,
      "outputs": []
    },
    {
      "cell_type": "code",
      "source": [
        ""
      ],
      "metadata": {
        "id": "hdCrc4CI7INB"
      },
      "execution_count": null,
      "outputs": []
    },
    {
      "cell_type": "markdown",
      "source": [
        "# Comparación con el modelo continuo\n",
        "\n",
        "El modelo continuo $T'=k(T-S)$, la solucion del problema anterior es:\n",
        "$$Temp(t)=30+50exp(-0.04t)$$\n",
        "\n",
        "**Ejercicio:**  probar que $Temp(t)$ es solución de la ecuación diferencial."
      ],
      "metadata": {
        "id": "wWnSFPpf8FYv"
      }
    },
    {
      "cell_type": "code",
      "source": [
        "t=np.linspace(0,120)\n",
        "def Temp(t):return 30+50*np.exp(-0.0408*t)\n"
      ],
      "metadata": {
        "id": "dtp5aqbt9IbW"
      },
      "execution_count": null,
      "outputs": []
    },
    {
      "cell_type": "code",
      "source": [
        "I=np.arange(0,121)\n",
        "plt.plot(I,Temp(I))\n",
        "#plt.plot(I,T)\n"
      ],
      "metadata": {
        "id": "brZbzuSg9ZIS"
      },
      "execution_count": null,
      "outputs": []
    },
    {
      "cell_type": "markdown",
      "source": [
        "\n",
        "**Problema 2 (Temperatura del medio no constante)**\n",
        "\n",
        "\n",
        "Suponga que en la temperatura del medio $S$ está cambiando por cada unidad de tiempo, por ejemplo en un cuarto frío. Si la temperatura del medio después de $n$ unidades de tiempo viene dada por $S_n$ entonces la ley de enfriamiento se puede escribir:\n",
        "$$T_{n+1}-T_{n}=k(T_n-S_n)$$ para $n=0,1,2,...$. \n",
        "\n",
        "Suponga que la taza de cafe con temperatura inicial $T_0=80C$ se deja en un cuato frío con temperatura inicial de $S_0=30C$ pero que disminuye 1% cada minuto.\n",
        "\n",
        "a) Construya una lista con la temperatura del café para los primeros 120 minutos y grafique la lista.\n",
        "\n",
        "b) Halle el límite de la sucesión $T_{n}$\n",
        "\n",
        "c)¿En que punto la temperatura del café es 30ºC ?"
      ],
      "metadata": {
        "id": "Oatrih_UAreB"
      }
    },
    {
      "cell_type": "code",
      "source": [
        "k=-0.04\n",
        "S=30\n",
        "T2=[80]\n",
        "for n in range(120):\n",
        "  a=T2[-1]+k*(T2[-1]-S*0.99**n)\n",
        "  T2.append(a)\n",
        "\n",
        "print(T2)\n",
        "plt.plot(T2,'.')\n",
        "plt.plot(T,'.')\n",
        "plt.hlines(30,0,120)\n"
      ],
      "metadata": {
        "id": "UVToCGtLBQx8"
      },
      "execution_count": null,
      "outputs": []
    }
  ]
}