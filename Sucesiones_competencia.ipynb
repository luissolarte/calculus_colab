{
  "nbformat": 4,
  "nbformat_minor": 0,
  "metadata": {
    "colab": {
      "name": "Sucesiones_competencia.ipynb",
      "provenance": [],
      "authorship_tag": "ABX9TyMR/5wXpBtmbcqtDcmVBZXV",
      "include_colab_link": true
    },
    "kernelspec": {
      "name": "python3",
      "display_name": "Python 3"
    },
    "language_info": {
      "name": "python"
    }
  },
  "cells": [
    {
      "cell_type": "markdown",
      "metadata": {
        "id": "view-in-github",
        "colab_type": "text"
      },
      "source": [
        "<a href=\"https://colab.research.google.com/github/luissolarte/calculus_colab/blob/main/Sucesiones_competencia.ipynb\" target=\"_parent\"><img src=\"https://colab.research.google.com/assets/colab-badge.svg\" alt=\"Open In Colab\"/></a>"
      ]
    },
    {
      "cell_type": "markdown",
      "source": [
        "# Modelando batallas\n",
        "\n",
        "Modelo de Lanchester.  \n",
        "\n",
        "$A=$ número de soldados del ejercito A, $\\alpha=$ poder ofensivo del ejercito A\n",
        "\n",
        "$B=$ número de soldados del ejercito B, $\\beta=$ poder ofensivo del ejercito B\n",
        "\n",
        "\n",
        "$$ A'=-\\beta B$$\n",
        "$$ B'=-\\alpha A$$\n",
        "\n",
        "---\n",
        "Versión discreta\n",
        "\n",
        "$$ \\Delta A_n=-\\beta B_n$$\n",
        "$$ \\Delta B_n=-\\alpha A_n $$\n",
        "\n",
        "donde el operador derivada discreta $\\Delta$ se define como:\n",
        " $$ \\Delta X_n=X_{n+1}-X_n$$ \n"
      ],
      "metadata": {
        "id": "SiAI3olRzMxP"
      }
    },
    {
      "cell_type": "markdown",
      "source": [
        "# Modelando la Batalla de 300\n",
        "\n",
        "Asumiendo que un soldado espartano es 1500 veces más efectivo que sus rivales."
      ],
      "metadata": {
        "id": "U0kMwsO53mbB"
      }
    },
    {
      "cell_type": "code",
      "execution_count": null,
      "metadata": {
        "id": "pbrcMwuOu49w"
      },
      "outputs": [],
      "source": [
        "import numpy as np\n",
        "import matplotlib.pyplot as plt\n",
        "\n",
        "\n",
        "A=[300]\n",
        "B=[10000]\n",
        "a,b=-0.9,-0.0006\n",
        "for _ in range(100):\n",
        "  NextA,NextB=B[-1]*b+A[-1],A[-1]*a+B[-1]\n",
        "  A.append(NextA)\n",
        "  B.append(NextB)\n",
        "  if NextA<0 or NextB<0: #Salir del ciclo cuando alguno pierde\n",
        "    break"
      ]
    },
    {
      "cell_type": "code",
      "source": [
        "plt.plot(A)\n",
        "plt.plot(B)"
      ],
      "metadata": {
        "colab": {
          "base_uri": "https://localhost:8080/",
          "height": 282
        },
        "id": "kRrShqtY1Ps1",
        "outputId": "257c7d9a-74dd-44b4-f1ca-cd3ab5340584"
      },
      "execution_count": null,
      "outputs": [
        {
          "output_type": "execute_result",
          "data": {
            "text/plain": [
              "[<matplotlib.lines.Line2D at 0x7f4e351a0410>]"
            ]
          },
          "metadata": {},
          "execution_count": 20
        },
        {
          "output_type": "display_data",
          "data": {
            "text/plain": [
              "<Figure size 432x288 with 1 Axes>"
            ],
            "image/png": "[encoded data removed]"
          },
          "metadata": {
            "needs_background": "light"
          }
        }
      ]
    },
    {
      "cell_type": "markdown",
      "source": [
        "# Ejercicio\n",
        "\n",
        "1. Encapsule el código anterior en una función que dependa de los parámetros del modelo.\n",
        "\n",
        "2. Modelar la batalla de los bastardos ( Incluir refuerzos)"
      ],
      "metadata": {
        "id": "n0OFdh2L4D3v"
      }
    },
    {
      "cell_type": "markdown",
      "source": [
        "# Modelos competencia de especies\n",
        "\n",
        "ver [Wiki](https://en.wikipedia.org/wiki/Lotka%E2%80%93Volterra_equations)\n",
        "\n",
        "Construir un modelo discreto"
      ],
      "metadata": {
        "id": "30r-WSNA4OgV"
      }
    },
    {
      "cell_type": "code",
      "source": [
        "def dpmodel(x0=10,y0=10,a=0.01,b1=0.9,b2=1.03,N=50):\n",
        "  shark=[x0]\n",
        "  tuna=[y0]\n",
        "  for n in range(N):\n",
        "    s=shark[-1]\n",
        "    t=tuna[-1]\n",
        "    if s>0 and t>0:\n",
        "      shark.append(a*s*t+b1*s)\n",
        "      tuna.append(-a*s*t+b2*t)\n",
        "    else:\n",
        "      break\n",
        "  return shark,tuna"
      ],
      "metadata": {
        "id": "9kUCLOuq5XWF"
      },
      "execution_count": null,
      "outputs": []
    },
    {
      "cell_type": "code",
      "source": [
        "a,b=dpmodel(x0=20,y0=30,a=0.01,N=1000)\n",
        "plt.plot(a,\"r-\")\n",
        "plt.plot(b)\n",
        "plt.show()\n",
        "plt.plot(a,b,'.')"
      ],
      "metadata": {
        "colab": {
          "base_uri": "https://localhost:8080/",
          "height": 530
        },
        "id": "UbOb8gKJ5jxH",
        "outputId": "ad7c328e-1291-49f3-ffbb-4cf6f9ed7f96"
      },
      "execution_count": null,
      "outputs": [
        {
          "output_type": "display_data",
          "data": {
            "text/plain": [
              "<Figure size 432x288 with 1 Axes>"
            ],
            "image/png": "[encoded data removed]"
          },
          "metadata": {
            "needs_background": "light"
          }
        },
        {
          "output_type": "execute_result",
          "data": {
            "text/plain": [
              "[<matplotlib.lines.Line2D at 0x7f4e3510e510>]"
            ]
          },
          "metadata": {},
          "execution_count": 23
        },
        {
          "output_type": "display_data",
          "data": {
            "text/plain": [
              "<Figure size 432x288 with 1 Axes>"
            ],
            "image/png": "[encoded data removed]"
          },
          "metadata": {
            "needs_background": "light"
          }
        }
      ]
    },
    {
      "cell_type": "markdown",
      "source": [
        "# Proyecto\n",
        "\n",
        "Modele la técnica del uso de Wolbachia para la prevención del dengue."
      ],
      "metadata": {
        "id": "1AutRmQV68ze"
      }
    },
    {
      "cell_type": "code",
      "source": [
        ""
      ],
      "metadata": {
        "id": "2ei_F_Cs70Cp"
      },
      "execution_count": null,
      "outputs": []
    }
  ]
}